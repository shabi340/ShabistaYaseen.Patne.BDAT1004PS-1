{
 "cells": [
  {
   "cell_type": "markdown",
   "id": "e10f5a86",
   "metadata": {},
   "source": [
    "# BDAT 1004 DATA PROGRAMMING\n",
    "## PROBLEM SET 1\n",
    "\n",
    "\n",
    "\n",
    "\n",
    "### SHABISTA YASEEN PATNE\n",
    "### 200517370"
   ]
  },
  {
   "cell_type": "markdown",
   "id": "d34fcfd5",
   "metadata": {},
   "source": [
    "### Question 1\n",
    "#### What data type is each of the following (evaluate where necessary)?\n",
    "#### 5\n",
    "#### 5.0\n",
    "#### 5 > 1\n",
    "#### '5'\n",
    "#### 5 * 2\n",
    "#### '5' * 2\n",
    "#### '5' + '2'\n",
    "#### 5 / 2\n",
    "#### 5 % 2\n",
    "#### {5, 2, 1}\n",
    "#### 5 == 3\n",
    "#### Pi (the number)"
   ]
  },
  {
   "cell_type": "code",
   "execution_count": 7,
   "id": "a1b45369",
   "metadata": {},
   "outputs": [
    {
     "name": "stdout",
     "output_type": "stream",
     "text": [
      "ANSWER 1\n",
      "\n",
      "\n",
      "5: INT\n",
      "\n",
      "5.0: FLOAT\n",
      "\n",
      "5>1: BOOLEAN (True/False)\n",
      "\n",
      "'5': STRING\n",
      "\n",
      "5 * 2: INT\n",
      "\n",
      "'5' * 2: type('5' * 2)\n",
      "\n",
      "5 / 2: type(5 / 2)\n",
      "\n",
      "5 % 2: type(5 % 2)\n",
      "\n",
      "{5, 2, 1}: SET\n",
      "\n",
      "5 == 3: BOOLEAN (True/False)\n",
      "\n",
      "Pi (the number): FLOAT (3.14)\n"
     ]
    }
   ],
   "source": [
    "print(\"ANSWER 1\\n\\n\")\n",
    "print(\"5: INT\\n\")\n",
    "print(\"5.0: FLOAT\\n\")\n",
    "print(\"5>1: BOOLEAN (True/False)\\n\")\n",
    "print(\"'5': STRING\\n\")\n",
    "print(\"5 * 2: INT\\n\")\n",
    "print(\"'5' * 2: type('5' * 2)\\n\")\n",
    "print(\"5 / 2: type(5 / 2)\\n\")\n",
    "print(\"5 % 2: type(5 % 2)\\n\")\n",
    "print(\"{5, 2, 1}: SET\\n\")\n",
    "print(\"5 == 3: BOOLEAN (True/False)\\n\")\n",
    "print(\"Pi (the number): FLOAT (3.14)\")"
   ]
  },
  {
   "cell_type": "markdown",
   "id": "2f2eec19",
   "metadata": {},
   "source": [
    "### Question 2\n",
    "#### Write (and evaluate) python expressions that answer these questions:\n",
    "#### a. How many letters are there in 'Supercalifragilisticexpialidocious'?\n",
    "#### b. Does 'Supercalifragilisticexpialidocious' contain 'ice' as a substring? \n",
    "#### c. Which of the following words is the longest:\n",
    "#### Supercalifragilisticexpialidocious, Honorificabilitudinitatibus, or Bababadalgharaghtakamminarronnkonn?\n",
    "#### d. Which composer comes first in the dictionary: 'Berlioz', 'Borodin', 'Brian', 'Bartok', 'Bellini', 'Buxtehude', 'Bernstein'. Which one comes last?"
   ]
  },
  {
   "cell_type": "code",
   "execution_count": 82,
   "id": "b99db3d0",
   "metadata": {},
   "outputs": [
    {
     "name": "stdout",
     "output_type": "stream",
     "text": [
      "ANSWER 2\n",
      "\n",
      "\n",
      "a. Number of letters in Supercalifragilisticexpialidocious are 34 \n",
      "\n",
      "b. ice is present in word Supercalifragilisticexpialidocious \n",
      "\n",
      "c. Longest word is Supercalifragilisticexpialidocious \n",
      "\n",
      "d. Bartok comes first in the dictionary and Buxtehude comes last\n"
     ]
    }
   ],
   "source": [
    "word1 = 'Supercalifragilisticexpialidocious'\n",
    "word2 = 'Honorificabilitudinitatibus'\n",
    "word3 = 'Bababadalgharaghtakamminarronnkonn'\n",
    "word4 = 'Berlioz'\n",
    "word5 = 'Borodin'\n",
    "word6 = 'Brian'\n",
    "word7 = 'Bartok'\n",
    "word8 = 'Bellini'\n",
    "word9 = 'Buxtehude'\n",
    "word10 = 'Bernstein'\n",
    "substr = 'ice'\n",
    "\n",
    "print(\"ANSWER 2\\n\\n\")\n",
    "\n",
    "# Calculate the number of letters in word1\n",
    "no_of_letters = len(word1)\n",
    "print(\"a. Number of letters in\", word1, \"are\", no_of_letters, \"\\n\")\n",
    "\n",
    "# Check if the substring is present in word1\n",
    "if substr in word1:\n",
    "    substring = substr\n",
    "    print(\"b.\", substring, \"is present in word\", word1, \"\\n\")\n",
    "else:\n",
    "    print(\"b.\", substr, \"is not present in word\", word1, \"\\n\")\n",
    "\n",
    "# Find the longest word among word1, word2, and word3\n",
    "if len(word1) >= len(word2) and len(word1) >= len(word3):\n",
    "    longest = word1\n",
    "elif len(word2) >= len(word1) and len(word2) >= len(word3):\n",
    "    longest = word2\n",
    "else:\n",
    "    longest = word3\n",
    "\n",
    "print(\"c. Longest word is\", longest, \"\\n\")\n",
    "\n",
    "# Create a list of composers\n",
    "composers = [word4, word5, word6, word7, word8, word9, word10]\n",
    "\n",
    "# Find the first and last word in the list when sorted alphabetically\n",
    "first = min(composers)\n",
    "last = max(composers)\n",
    "print(\"d.\", first, \"comes first in the dictionary and\", last, \"comes last\")"
   ]
  },
  {
   "cell_type": "markdown",
   "id": "34035931",
   "metadata": {},
   "source": [
    "### Question 3\n",
    "#### Implement function triangleArea(a,b,c) that takes as input the lengths of the 3 sides of a triangle and returns the area of the triangle. By Heron's formula, the area of a triangle with side lengths a, b, and c is s(s - a)(s -b)(s -c), where s = (a+b+c)/2.\n",
    "#### >>> triangleArea(2,2,2)\n",
    "#### 1.7320508075688772\n"
   ]
  },
  {
   "cell_type": "code",
   "execution_count": 83,
   "id": "59646b12",
   "metadata": {},
   "outputs": [
    {
     "name": "stdout",
     "output_type": "stream",
     "text": [
      "ANSWER 3\n",
      "\n",
      "\n",
      "Area is 1.7320508075688772\n"
     ]
    }
   ],
   "source": [
    "import math\n",
    "\n",
    "def triangleArea(a, b, c):\n",
    "    # Calculate the semi-perimeter\n",
    "    s = (a + b + c) / 2\n",
    "    \n",
    "    # Calculate the area using Heron's formula\n",
    "    area = math.sqrt(s * (s - a) * (s - b) * (s - c))\n",
    "    \n",
    "    return area\n",
    "\n",
    "# Calculate the area of a triangle with sides of length 2, 2, and 2\n",
    "area = triangleArea(2, 2, 2)\n",
    "\n",
    "print(\"ANSWER 3\\n\\n\")\n",
    "print(\"Area is\", area)"
   ]
  },
  {
   "cell_type": "markdown",
   "id": "c9b2a112",
   "metadata": {},
   "source": [
    "### Question 4\n",
    "#### Write a program in python to separate odd and even integers in separate arrays. Go to the editor\n",
    "#### Test Data :\n",
    "#### Input the number of elements to be stored in the array :5\n",
    "#### Input 5 elements in the array :\n",
    "#### element - 0 : 25\n",
    "#### element - 1 : 47\n",
    "#### element - 2 : 42\n",
    "#### element - 3 : 56\n",
    "#### element - 4 : 32\n",
    "#### Expected Output:\n",
    "#### The Even elements are:\n",
    "#### 42 56 32\n",
    "#### The Odd elements are :\n",
    "#### 25 47"
   ]
  },
  {
   "cell_type": "code",
   "execution_count": 85,
   "id": "9e99c27b",
   "metadata": {},
   "outputs": [
    {
     "name": "stdout",
     "output_type": "stream",
     "text": [
      "Input the number of elements to be stored in the array: 5\n",
      "element-0:25\n",
      "element-1:47\n",
      "element-2:42\n",
      "element-3:56\n",
      "element-4:32\n",
      "[25, 47, 42, 56, 32]\n",
      "ANSWER 4\n",
      "\n",
      "\n",
      "The Even elements are:\n",
      "42 56 32 \n",
      "The Odd elements are:\n",
      "25 47 "
     ]
    }
   ],
   "source": [
    "elements = []\n",
    "num = int(input(\"Input the number of elements to be stored in the array: \"))\n",
    "\n",
    "# Input elements from the user and store them in the list\n",
    "for i in range(0, num):\n",
    "    element = int(input(\"element-\" + str(i) + \":\"))\n",
    "    elements.append(element)\n",
    "\n",
    "print(elements)\n",
    "\n",
    "even = []\n",
    "odd = []\n",
    "\n",
    "# Separate the even and odd elements from the list\n",
    "for number in elements:\n",
    "    if number % 2 == 0:\n",
    "        even.append(number)\n",
    "    else:\n",
    "        odd.append(number)\n",
    "\n",
    "print(\"ANSWER 4\\n\\n\")\n",
    "print(\"The Even elements are:\")\n",
    "for n in even:\n",
    "    print(n, end=\" \")\n",
    "print(\"\\nThe Odd elements are:\")\n",
    "for n in odd:\n",
    "    print(n, end=\" \")"
   ]
  },
  {
   "cell_type": "markdown",
   "id": "9527bfe6",
   "metadata": {},
   "source": [
    "### Question 5\n",
    "#### a. Write a function inside(x,y,x1,y1,x2,y2) that returns True or False depending on whether the point (x,y) lies in the rectangle with lower left corner (x1,y1) and upper right corner (x2,y2).\n",
    "#### >>> inside(1,1,0,0,2,3)\n",
    "#### True\n",
    "#### >>> inside(-1,-1,0,0,2,3)\n",
    "#### False\n",
    "#### b. Use function inside() from part a. to write an expression that tests whether the point (1,1) lies in both of the following rectangles: one with lower left corner (0.3, 0.5) and upper right corner (1.1, 0.7) and the other with lower left corner (0.5, 0.2) and upper right corner (1.1, 2). "
   ]
  },
  {
   "cell_type": "code",
   "execution_count": 86,
   "id": "2a2e9846",
   "metadata": {},
   "outputs": [
    {
     "name": "stdout",
     "output_type": "stream",
     "text": [
      "ANSWER 5\n",
      "\n",
      "\n",
      "True\n",
      "False\n",
      "(1, 1) does not lie in both rectangles.\n"
     ]
    }
   ],
   "source": [
    "def inside(x, y, x1, y1, x2, y2):\n",
    "    # Check if (x, y) is inside the rectangle defined by (x1, y1) and (x2, y2)\n",
    "    if x >= x1 and x <= x2 and y >= y1 and y <= y2:\n",
    "        return True\n",
    "    else:\n",
    "        return False\n",
    "\n",
    "print(\"ANSWER 5\\n\\n\")\n",
    "\n",
    "# Check if (1, 1) is inside the rectangle with corners (0, 0) and (2, 3)\n",
    "print(inside(1, 1, 0, 0, 2, 3))\n",
    "\n",
    "# Check if (-1, -1) is inside the rectangle with corners (0, 0) and (2, 3)\n",
    "print(inside(-1, -1, 0, 0, 2, 3))\n",
    "\n",
    "# Check if (1, 1) is inside both rectangles\n",
    "r1 = inside(1, 1, 0.3, 0.5, 1.1, 0.7)\n",
    "r2 = inside(1, 1, 0.5, 0.2, 1.1, 2)\n",
    "\n",
    "if r1 and r2:\n",
    "    print(\"(1, 1) lies in both rectangles.\")\n",
    "else:\n",
    "    print(\"(1, 1) does not lie in both rectangles.\")"
   ]
  },
  {
   "cell_type": "markdown",
   "id": "29ef81e5",
   "metadata": {},
   "source": [
    "### Question 6\n",
    "#### You can turn a word into pig-Latin using the following two rules (simplified):\n",
    "#### • If the word starts with a consonant, move that letter to the end and append 'ay'. For example, 'happy' becomes 'appyhay' and 'pencil' becomes 'encilpay'.\n",
    "#### • If the word starts with a vowel, simply append 'way' to the end of the word.\n",
    "#### For example, 'enter' becomes 'enterway' and 'other' becomes 'otherway' . For our purposes, there are 5 vowels: a, e, i, o, u (so we count y as a consonant).\n",
    "#### Write a function pig() that takes a word (i.e., a string) as input and returns its pigLatin form. Your function should still work if the input word contains upper case characters. Your output should always be lower case however.\n",
    "#### >>> pig('happy')\n",
    "#### 'appyhay'\n",
    "#### >>> pig('Enter')\n",
    "#### 'enterway' "
   ]
  },
  {
   "cell_type": "code",
   "execution_count": 87,
   "id": "220f958c",
   "metadata": {},
   "outputs": [
    {
     "name": "stdout",
     "output_type": "stream",
     "text": [
      "ANSWER 6\n",
      "\n",
      "\n",
      "appyhay\n",
      "enterway\n"
     ]
    }
   ],
   "source": [
    "def pig(word):\n",
    "    # Convert the word to lowercase for consistent processing\n",
    "    word = word.lower()\n",
    "    vowel = ['a', 'e', 'i', 'o', 'u']\n",
    "    \n",
    "    # Check if the word starts with a vowel\n",
    "    if word[0] in vowel:\n",
    "        pig_latin = word + 'way'  # Add 'way' to the end of the word\n",
    "    else:\n",
    "        pig_latin = word[1:] + word[0] + 'ay'  # Move the first letter to the end and add 'ay'\n",
    "    \n",
    "    return pig_latin\n",
    "\n",
    "print(\"ANSWER 6\\n\\n\")\n",
    "\n",
    "# Test the pig function with different words\n",
    "print(pig('happy'))  # Output: appyhay\n",
    "print(pig('Enter'))  # Output: enteray"
   ]
  },
  {
   "cell_type": "markdown",
   "id": "a0c0eb03",
   "metadata": {},
   "source": [
    "### Question 7\n",
    "#### File bloodtype1.txt records blood-types of patients (A, B, AB, O or OO) at a clinic.\n",
    "#### Write a function bldcount() that reads the file with name name and reports (i.e., prints) how many patients there are in each bloodtype.\n",
    "#### >>> bldcount('bloodtype.txt')\n",
    "#### There are 10 patients of blood type A.\n",
    "#### There is one patient of blood type B.\n",
    "#### There are 10 patients of blood type AB.\n",
    "#### There are 12 patients of blood type O.\n",
    "#### There are no patients of blood type OO.\n",
    "\n",
    "##### bloodtype1.txt:\n",
    "##### AB AB B O A A AB O AB A O O A A A O O O AB O A A A A A AB AB A AB O AB O A O O O AB O AB AB AB A A O "
   ]
  },
  {
   "cell_type": "code",
   "execution_count": 88,
   "id": "0949f21a",
   "metadata": {},
   "outputs": [
    {
     "name": "stdout",
     "output_type": "stream",
     "text": [
      "ANSWER 7\n",
      "\n",
      "\n",
      "There are 28 patients of blood type A.\n",
      "There are 14 patients of blood type B.\n",
      "There are 0 patients of blood type C.\n",
      "There are 15 patients of blood type O.\n",
      "There are 0 patients of blood type OO.\n"
     ]
    }
   ],
   "source": [
    "def bldcount(filename):\n",
    "    blood_group = ['A', 'B', 'C', 'O', 'OO']\n",
    "    count = [0, 0, 0, 0, 0]\n",
    "    \n",
    "    # Open the file for reading\n",
    "    file = open(filename)\n",
    "    content = file.read()\n",
    "    \n",
    "    # Count the number of patients for each blood type\n",
    "    for blood_type in content:\n",
    "        if blood_type in blood_group:\n",
    "            index = blood_group.index(blood_type)\n",
    "            count[index] += 1\n",
    "    \n",
    "    # Print the count for each blood type\n",
    "    for i in range(len(blood_group)):\n",
    "        if count[i] == 1:\n",
    "            print(\"There is one patient of blood type\", blood_group[i] + \".\")\n",
    "        else:\n",
    "            print(\"There are\", count[i], \"patients of blood type\", blood_group[i] + \".\")\n",
    "\n",
    "print(\"ANSWER 7\\n\\n\")\n",
    "\n",
    "# Call the bldcount function with the given file name\n",
    "bldcount(\"C:\\\\Users\\\\pshab\\\\OneDrive\\\\Desktop\\\\bloodtype1.txt\")"
   ]
  },
  {
   "cell_type": "markdown",
   "id": "6deb90ac",
   "metadata": {},
   "source": [
    "### Question 8\n",
    "#### Write a function curconv() that takes as input:\n",
    "#### 1. a currency represented using a string (e.g., 'JPY' for the Japanese Yen or 'EUR' for the Euro)\n",
    "#### 2. an amount and then converts and returns the amount in US dollars.\n",
    "#### >>> curconv('EUR', 100)\n",
    "#### 122.96544\n",
    "#### >>> curconv('JPY', 100)\n",
    "#### 1.241401\n",
    "#### The currency rates you will need are stored in file currencies.txt:\n",
    "##### AUD 1.0345157 Australian Dollar\n",
    "##### CHF 1.0237414 Swiss Franc\n",
    "##### CNY 0.1550176 Chinese Yuan\n",
    "##### DKK 0.1651442 Danish Krone\n",
    "##### EUR 1.2296544 Euro\n",
    "##### GBP 1.5550989 British Pound\n",
    "##### HKD 0.1270207 Hong Kong Dollar\n",
    "##### INR 0.0177643 Indian Rupee\n",
    "##### JPY 0.01241401 Japanese Yen\n",
    "##### MXN 0.0751848 Mexican Peso\n",
    "##### MYR 0.3145411 Malaysian Ringgit\n",
    "##### NOK 0.1677063 Norwegian Krone\n",
    "##### NZD 0.8003591 New Zealand Dollar\n",
    "##### PHP 0.0233234 Philippine Peso\n",
    "##### SEK 0.148269 Swedish Krona\n",
    "##### SGD 0.788871 Singapore Dollar\n",
    "##### THB 0.0313789 Thai Baht"
   ]
  },
  {
   "cell_type": "code",
   "execution_count": 89,
   "id": "993edad5",
   "metadata": {},
   "outputs": [
    {
     "name": "stdout",
     "output_type": "stream",
     "text": [
      "ANSWER 8\n",
      "\n",
      "\n",
      "122.96544\n",
      "1.241401\n"
     ]
    }
   ],
   "source": [
    "currency_rates = {}\n",
    "\n",
    "# Read currency rates from file and store in dictionary\n",
    "with open('C:\\\\Users\\\\pshab\\\\OneDrive\\\\Desktop\\\\currencies.txt', 'r') as file:\n",
    "    lines = file.readlines()\n",
    "    for line in lines:\n",
    "        data = line.split()\n",
    "        currency_rates[data[0]] = float(data[1])\n",
    "\n",
    "# Check if currency exists in the dictionary\n",
    "currency = 'EUR'\n",
    "if currency not in currency_rates:\n",
    "    raise ValueError(\"Invalid currency.\")\n",
    "\n",
    "# Retrieve conversion rate for the given currency\n",
    "conversion_rate = currency_rates[currency]\n",
    "\n",
    "print(\"ANSWER 8\\n\\n\")\n",
    "\n",
    "# Convert amount to US dollars\n",
    "amount = 100\n",
    "usd_amount = amount * conversion_rate\n",
    "\n",
    "print(usd_amount)\n",
    "\n",
    "currency = 'JPY'\n",
    "if currency not in currency_rates:\n",
    "    raise ValueError(\"Invalid currency.\")\n",
    "\n",
    "conversion_rate = currency_rates[currency]\n",
    "amount = 100\n",
    "usd_amount = amount * conversion_rate\n",
    "\n",
    "print(usd_amount)"
   ]
  },
  {
   "cell_type": "markdown",
   "id": "08cf96ec",
   "metadata": {},
   "source": [
    "### Question 9\n",
    "#### Each of the following will cause an exception (an error). Identify what type of exception each will cause.\n",
    "#### Trying to add incompatible variables, as in adding 6 + ‘a’\n",
    "#### Referring to the 12th item of a list that has only 10 items\n",
    "#### Using a value that is out of range for a function’s input, such as calling math.sqrt(-1.0)\n",
    "#### Using an undeclared variable, such as print(x) when x has not been defined\n",
    "#### Trying to open a file that does not exist, such as mistyping the file name or looking in the wrong directory. "
   ]
  },
  {
   "cell_type": "code",
   "execution_count": 91,
   "id": "8ef559de",
   "metadata": {},
   "outputs": [
    {
     "name": "stdout",
     "output_type": "stream",
     "text": [
      "ANSWER 8\n",
      "\n",
      "\n",
      "Trying to add incompatible variables, as in adding 6 + ‘a’\n",
      "TYPE ERROR: Addition between string and integer cannot be performed\n",
      "Referring to the 12th item of a list that has only 10 items\n",
      "INDEX ERROR: List does not have 12th item\n",
      "Using a value that is out of range for a function’s input, such as calling math.sqrt(-1.0)\n",
      "VALUE ERROR: math.sqrt takes only a positive number\n",
      "Using an undeclared variable, such as print(x) when x has not been defined\n",
      "NAME ERROR: Variable x has not been declared\n",
      "Trying to open a file that does not exist, such as mistyping the file name or looking in the wrong directory.\n",
      "FILE NOT FOUND ERROR: File was not found at the specified location\n"
     ]
    }
   ],
   "source": [
    "print(\"ANSWER 8\\n\\n\")\n",
    "\n",
    "\n",
    "print(\"Trying to add incompatible variables, as in adding 6 + ‘a’\")\n",
    "print(\"TYPE ERROR: Addition between string and integer cannot be performed\")\n",
    "\n",
    "print(\"Referring to the 12th item of a list that has only 10 items\")\n",
    "print(\"INDEX ERROR: List does not have 12th item\")\n",
    "\n",
    "print(\"Using a value that is out of range for a function’s input, such as calling math.sqrt(-1.0)\")\n",
    "print(\"VALUE ERROR: math.sqrt takes only a positive number\")\n",
    "\n",
    "print(\"Using an undeclared variable, such as print(x) when x has not been defined\")\n",
    "print(\"NAME ERROR: Variable x has not been declared\")\n",
    "\n",
    "print(\"Trying to open a file that does not exist, such as mistyping the file name or looking in the wrong directory.\")\n",
    "print(\"FILE NOT FOUND ERROR: File was not found at the specified location\")"
   ]
  },
  {
   "cell_type": "markdown",
   "id": "85164497",
   "metadata": {},
   "source": [
    "### Question 10\n",
    "#### Encryption is the process of hiding the meaning of a text by substituting letters in the message with other letters, according to some system. If the process is successful, no one but the intended recipient can understand the encrypted message. Cryptanalysis refers to attempts to undo the encryption, even if some details of the encryption are unknown (for example, if an encrypted message has been intercepted). The first step of cryptanalysis is often to build up a table of letter frequencies in the encrypted text.\n",
    "#### Assume that the string letters is already defined as 'abcdefghijklmnopqrstuvwxyz'. Write a function called frequencies() that takes a string as its only parameter, and returns a list of integers, showing the number of times each character appears in the text. Your function may ignore any characters that are not in letters.\n",
    "#### >>> frequencies('The quick red fox got bored and went home.')\n",
    "#### [1, 1, 1, 3, 5, 1, 1, 2, 1, 0, 1, 0, 1, 2, 4, 0, 1, 2, 0, 2,1, 0, 1, 1, 0, 0]\n",
    "#### >>> frequencies('apple')"
   ]
  },
  {
   "cell_type": "code",
   "execution_count": 90,
   "id": "1b4fa55e",
   "metadata": {},
   "outputs": [
    {
     "name": "stdout",
     "output_type": "stream",
     "text": [
      "ANSWER 10\n",
      "\n",
      "\n",
      "[1, 1, 1, 3, 5, 1, 1, 2, 1, 0, 1, 0, 1, 2, 4, 0, 1, 2, 0, 3, 1, 0, 1, 1, 0, 0]\n",
      "[1, 0, 0, 0, 1, 0, 0, 0, 0, 0, 0, 1, 0, 0, 0, 2, 0, 0, 0, 0, 0, 0, 0, 0, 0, 0]\n"
     ]
    }
   ],
   "source": [
    "def frequencies(text):\n",
    "    letters = 'abcdefghijklmnopqrstuvwxyz'\n",
    "    frequency_list = []\n",
    "    for i in letters:\n",
    "        frequency = text.lower().count(i)\n",
    "        frequency_list.append(frequency)\n",
    "    return frequency_list\n",
    "\n",
    "print(\"ANSWER 10\\n\\n\")\n",
    "\n",
    "# Calculate the frequency of each letter in the given text\n",
    "print(frequencies('The quick red fox got bored and went home.'))\n",
    "print(frequencies('apple'))"
   ]
  }
 ],
 "metadata": {
  "kernelspec": {
   "display_name": "Python 3 (ipykernel)",
   "language": "python",
   "name": "python3"
  },
  "language_info": {
   "codemirror_mode": {
    "name": "ipython",
    "version": 3
   },
   "file_extension": ".py",
   "mimetype": "text/x-python",
   "name": "python",
   "nbconvert_exporter": "python",
   "pygments_lexer": "ipython3",
   "version": "3.10.11"
  }
 },
 "nbformat": 4,
 "nbformat_minor": 5
}
